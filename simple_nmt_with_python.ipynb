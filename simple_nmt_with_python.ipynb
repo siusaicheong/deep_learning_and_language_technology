{
  "nbformat": 4,
  "nbformat_minor": 0,
  "metadata": {
    "colab": {
      "name": "simple_nmt_with_python.ipynb",
      "version": "0.3.2",
      "provenance": [],
      "toc_visible": true
    },
    "kernelspec": {
      "name": "python3",
      "display_name": "Python 3"
    },
    "accelerator": "GPU"
  },
  "cells": [
    {
      "cell_type": "markdown",
      "metadata": {
        "id": "wcQvTBUiHf36",
        "colab_type": "text"
      },
      "source": [
        "#Google Colab\n",
        "- Easy to use\n",
        "- Pre-installed libraries (including those for data science: Numpy, Scikit-learn, tensorflow)\n",
        "- FREE GPU!!"
      ]
    },
    {
      "cell_type": "markdown",
      "metadata": {
        "id": "DVvdpai7HTGJ",
        "colab_type": "text"
      },
      "source": [
        "#Python as a calculator"
      ]
    },
    {
      "cell_type": "code",
      "metadata": {
        "id": "gvv95I6pY-EJ",
        "colab_type": "code",
        "outputId": "bd3a5cb6-3b83-464a-a20c-252dc826c758",
        "colab": {
          "base_uri": "https://localhost:8080/",
          "height": 35
        }
      },
      "source": [
        "3+5"
      ],
      "execution_count": 1,
      "outputs": [
        {
          "output_type": "execute_result",
          "data": {
            "text/plain": [
              "8"
            ]
          },
          "metadata": {
            "tags": []
          },
          "execution_count": 1
        }
      ]
    },
    {
      "cell_type": "code",
      "metadata": {
        "id": "ymVfzTiLY_bY",
        "colab_type": "code",
        "colab": {
          "base_uri": "https://localhost:8080/",
          "height": 35
        },
        "outputId": "4b55cc7e-4507-4c17-e628-fe784b15b951"
      },
      "source": [
        "x = 2\n",
        "x + 2"
      ],
      "execution_count": 2,
      "outputs": [
        {
          "output_type": "execute_result",
          "data": {
            "text/plain": [
              "4"
            ]
          },
          "metadata": {
            "tags": []
          },
          "execution_count": 2
        }
      ]
    },
    {
      "cell_type": "code",
      "metadata": {
        "id": "MksQ-C3DZXJd",
        "colab_type": "code",
        "outputId": "03949c18-9686-430a-87a2-6fe4592f2f0d",
        "colab": {
          "base_uri": "https://localhost:8080/",
          "height": 35
        }
      },
      "source": [
        "import math\n",
        "math.sqrt(81)"
      ],
      "execution_count": 3,
      "outputs": [
        {
          "output_type": "execute_result",
          "data": {
            "text/plain": [
              "9.0"
            ]
          },
          "metadata": {
            "tags": []
          },
          "execution_count": 3
        }
      ]
    },
    {
      "cell_type": "code",
      "metadata": {
        "id": "h_VLTWQFZFah",
        "colab_type": "code",
        "outputId": "ae47b893-cb19-4bf3-c933-e7a8037d4061",
        "colab": {
          "base_uri": "https://localhost:8080/",
          "height": 35
        }
      },
      "source": [
        "x = \"hello \"\n",
        "y = \"world\"\n",
        "x + y"
      ],
      "execution_count": 4,
      "outputs": [
        {
          "output_type": "execute_result",
          "data": {
            "text/plain": [
              "'hello world'"
            ]
          },
          "metadata": {
            "tags": []
          },
          "execution_count": 4
        }
      ]
    },
    {
      "cell_type": "code",
      "metadata": {
        "id": "DCaa_3a4ZMWz",
        "colab_type": "code",
        "outputId": "a93140dd-54d5-4a5c-fc6c-6614e0da5b1e",
        "colab": {
          "base_uri": "https://localhost:8080/",
          "height": 35
        }
      },
      "source": [
        "\"I love programming. \" * 3"
      ],
      "execution_count": 5,
      "outputs": [
        {
          "output_type": "execute_result",
          "data": {
            "text/plain": [
              "'I love programming. I love programming. I love programming. '"
            ]
          },
          "metadata": {
            "tags": []
          },
          "execution_count": 5
        }
      ]
    },
    {
      "cell_type": "code",
      "metadata": {
        "id": "Nh98nsmWgwW-",
        "colab_type": "code",
        "colab": {}
      },
      "source": [
        "sentence = \"I'd be pleased to be here.\""
      ],
      "execution_count": 0,
      "outputs": []
    },
    {
      "cell_type": "markdown",
      "metadata": {
        "id": "KDELZ4hrHYJV",
        "colab_type": "text"
      },
      "source": [
        "#Python helps you process Natural Language\n"
      ]
    },
    {
      "cell_type": "code",
      "metadata": {
        "id": "a6y1M94JgxjX",
        "colab_type": "code",
        "outputId": "efdd9bb5-4c0f-4bb7-d751-120e3365e992",
        "colab": {
          "base_uri": "https://localhost:8080/",
          "height": 35
        }
      },
      "source": [
        "len(sentence)"
      ],
      "execution_count": 7,
      "outputs": [
        {
          "output_type": "execute_result",
          "data": {
            "text/plain": [
              "26"
            ]
          },
          "metadata": {
            "tags": []
          },
          "execution_count": 7
        }
      ]
    },
    {
      "cell_type": "code",
      "metadata": {
        "id": "PHSkojqagkA4",
        "colab_type": "code",
        "outputId": "c437c22c-ddb9-4f35-df8b-d673c4a82006",
        "colab": {
          "base_uri": "https://localhost:8080/",
          "height": 35
        }
      },
      "source": [
        "sentence.split()"
      ],
      "execution_count": 8,
      "outputs": [
        {
          "output_type": "execute_result",
          "data": {
            "text/plain": [
              "[\"I'd\", 'be', 'pleased', 'to', 'be', 'here.']"
            ]
          },
          "metadata": {
            "tags": []
          },
          "execution_count": 8
        }
      ]
    },
    {
      "cell_type": "code",
      "metadata": {
        "id": "jpXAoyURgV9d",
        "colab_type": "code",
        "outputId": "678d24ec-fd66-49eb-a23b-8ddf5820ed0d",
        "colab": {
          "base_uri": "https://localhost:8080/",
          "height": 72
        }
      },
      "source": [
        "import nltk\n",
        "nltk.download('punkt')\n",
        "nltk.word_tokenize(sentence)"
      ],
      "execution_count": 9,
      "outputs": [
        {
          "output_type": "stream",
          "text": [
            "[nltk_data] Downloading package punkt to /root/nltk_data...\n",
            "[nltk_data]   Package punkt is already up-to-date!\n"
          ],
          "name": "stdout"
        },
        {
          "output_type": "execute_result",
          "data": {
            "text/plain": [
              "['I', \"'d\", 'be', 'pleased', 'to', 'be', 'here', '.']"
            ]
          },
          "metadata": {
            "tags": []
          },
          "execution_count": 9
        }
      ]
    },
    {
      "cell_type": "code",
      "metadata": {
        "id": "KDLY3D97li4k",
        "colab_type": "code",
        "outputId": "c33b10b5-2ed9-4b2c-a452-87198bda136a",
        "colab": {
          "base_uri": "https://localhost:8080/",
          "height": 108
        }
      },
      "source": [
        "sentence_zh = '他是學生。'\n",
        "import jieba\n",
        "jieba.lcut(sentence_zh)"
      ],
      "execution_count": 10,
      "outputs": [
        {
          "output_type": "stream",
          "text": [
            "Building prefix dict from the default dictionary ...\n",
            "Loading model from cache /tmp/jieba.cache\n",
            "Loading model cost 0.734 seconds.\n",
            "Prefix dict has been built succesfully.\n"
          ],
          "name": "stderr"
        },
        {
          "output_type": "execute_result",
          "data": {
            "text/plain": [
              "['他', '是', '學生', '。']"
            ]
          },
          "metadata": {
            "tags": []
          },
          "execution_count": 10
        }
      ]
    },
    {
      "cell_type": "code",
      "metadata": {
        "id": "yQjnJK6dHXxT",
        "colab_type": "code",
        "outputId": "added7a1-9ee2-4086-8523-a4f8366a50f7",
        "colab": {
          "base_uri": "https://localhost:8080/",
          "height": 35
        }
      },
      "source": [
        "import jieba.posseg as pseg\n",
        "pseg.lcut(sentence_zh)"
      ],
      "execution_count": 11,
      "outputs": [
        {
          "output_type": "execute_result",
          "data": {
            "text/plain": [
              "[pair('他', 'r'), pair('是', 'v'), pair('學生', 'n'), pair('。', 'x')]"
            ]
          },
          "metadata": {
            "tags": []
          },
          "execution_count": 11
        }
      ]
    },
    {
      "cell_type": "code",
      "metadata": {
        "id": "vPMnPGjJnaQl",
        "colab_type": "code",
        "outputId": "4aa8f545-34e6-4bbe-eb10-e85163407d3e",
        "colab": {
          "base_uri": "https://localhost:8080/",
          "height": 381
        }
      },
      "source": [
        "import jieba.analyse\n",
        "s = \"此外，公司拟对全资子公司吉林欧亚置业有限公司增资4.3亿元，增资后，吉林欧亚置业注册资本由7000万元增加到5亿元。吉林欧亚置业主要经营范围为房地产开发及百货零售等业务。目前在建吉林欧亚城市商业综合体项目。2013年，实现营业收入0万元，实现净利润-139.13万元。\"\n",
        "jieba.analyse.extract_tags(s)\n",
        "#jieba.analyse.extract_tags(s, withWeight=True)"
      ],
      "execution_count": 0,
      "outputs": [
        {
          "output_type": "execute_result",
          "data": {
            "text/plain": [
              "['欧亚',\n",
              " '吉林',\n",
              " '置业',\n",
              " '万元',\n",
              " '增资',\n",
              " '4.3',\n",
              " '7000',\n",
              " '2013',\n",
              " '139.13',\n",
              " '实现',\n",
              " '综合体',\n",
              " '经营范围',\n",
              " '亿元',\n",
              " '在建',\n",
              " '全资',\n",
              " '注册资本',\n",
              " '百货',\n",
              " '零售',\n",
              " '子公司',\n",
              " '营业']"
            ]
          },
          "metadata": {
            "tags": []
          },
          "execution_count": 13
        }
      ]
    },
    {
      "cell_type": "markdown",
      "metadata": {
        "id": "GeSqBkUtIBDY",
        "colab_type": "text"
      },
      "source": [
        "#Python helps you build artificial neural network for NLP"
      ]
    },
    {
      "cell_type": "markdown",
      "metadata": {
        "id": "KfFjBRRebHNb",
        "colab_type": "text"
      },
      "source": [
        "#Step 1: Connecting to Google Drive"
      ]
    },
    {
      "cell_type": "code",
      "metadata": {
        "id": "bz9hpuI-a9RN",
        "colab_type": "code",
        "outputId": "841baacc-7499-4dd1-f546-820df3f4c7cd",
        "colab": {
          "base_uri": "https://localhost:8080/",
          "height": 55
        }
      },
      "source": [
        "from google.colab import drive\n",
        "drive.mount('/content/drive')"
      ],
      "execution_count": 36,
      "outputs": [
        {
          "output_type": "stream",
          "text": [
            "Drive already mounted at /content/drive; to attempt to forcibly remount, call drive.mount(\"/content/drive\", force_remount=True).\n"
          ],
          "name": "stdout"
        }
      ]
    },
    {
      "cell_type": "markdown",
      "metadata": {
        "id": "gT0i_hG6bPHX",
        "colab_type": "text"
      },
      "source": [
        "#Step 2: Getting and installing relevant programs"
      ]
    },
    {
      "cell_type": "code",
      "metadata": {
        "id": "gvon6rPAfQQX",
        "colab_type": "code",
        "outputId": "63035c2d-cdfa-4c93-94da-57e5ad353e34",
        "colab": {
          "base_uri": "https://localhost:8080/",
          "height": 35
        }
      },
      "source": [
        "%cd /content\n",
        "!rm -r fastmt"
      ],
      "execution_count": 48,
      "outputs": [
        {
          "output_type": "stream",
          "text": [
            "/content\n"
          ],
          "name": "stdout"
        }
      ]
    },
    {
      "cell_type": "code",
      "metadata": {
        "id": "f_jgEmujcWRw",
        "colab_type": "code",
        "outputId": "10d33de9-86dc-40e2-f07f-659fd1a1fb5a",
        "colab": {
          "base_uri": "https://localhost:8080/",
          "height": 126
        }
      },
      "source": [
        "!git clone https://github.com/siusaicheong/fastmt"
      ],
      "execution_count": 49,
      "outputs": [
        {
          "output_type": "stream",
          "text": [
            "Cloning into 'fastmt'...\n",
            "remote: Enumerating objects: 23, done.\u001b[K\n",
            "remote: Counting objects:   4% (1/23)   \u001b[K\rremote: Counting objects:   8% (2/23)   \u001b[K\rremote: Counting objects:  13% (3/23)   \u001b[K\rremote: Counting objects:  17% (4/23)   \u001b[K\rremote: Counting objects:  21% (5/23)   \u001b[K\rremote: Counting objects:  26% (6/23)   \u001b[K\rremote: Counting objects:  30% (7/23)   \u001b[K\rremote: Counting objects:  34% (8/23)   \u001b[K\rremote: Counting objects:  39% (9/23)   \u001b[K\rremote: Counting objects:  43% (10/23)   \u001b[K\rremote: Counting objects:  47% (11/23)   \u001b[K\rremote: Counting objects:  52% (12/23)   \u001b[K\rremote: Counting objects:  56% (13/23)   \u001b[K\rremote: Counting objects:  60% (14/23)   \u001b[K\rremote: Counting objects:  65% (15/23)   \u001b[K\rremote: Counting objects:  69% (16/23)   \u001b[K\rremote: Counting objects:  73% (17/23)   \u001b[K\rremote: Counting objects:  78% (18/23)   \u001b[K\rremote: Counting objects:  82% (19/23)   \u001b[K\rremote: Counting objects:  86% (20/23)   \u001b[K\rremote: Counting objects:  91% (21/23)   \u001b[K\rremote: Counting objects:  95% (22/23)   \u001b[K\rremote: Counting objects: 100% (23/23)   \u001b[K\rremote: Counting objects: 100% (23/23), done.\u001b[K\n",
            "remote: Compressing objects:   5% (1/20)   \u001b[K\rremote: Compressing objects:  10% (2/20)   \u001b[K\rremote: Compressing objects:  15% (3/20)   \u001b[K\rremote: Compressing objects:  20% (4/20)   \u001b[K\rremote: Compressing objects:  25% (5/20)   \u001b[K\rremote: Compressing objects:  30% (6/20)   \u001b[K\rremote: Compressing objects:  35% (7/20)   \u001b[K\rremote: Compressing objects:  40% (8/20)   \u001b[K\rremote: Compressing objects:  45% (9/20)   \u001b[K\rremote: Compressing objects:  50% (10/20)   \u001b[K\rremote: Compressing objects:  55% (11/20)   \u001b[K\rremote: Compressing objects:  60% (12/20)   \u001b[K\rremote: Compressing objects:  65% (13/20)   \u001b[K\rremote: Compressing objects:  70% (14/20)   \u001b[K\rremote: Compressing objects:  75% (15/20)   \u001b[K\rremote: Compressing objects:  80% (16/20)   \u001b[K\rremote: Compressing objects:  85% (17/20)   \u001b[K\rremote: Compressing objects:  90% (18/20)   \u001b[K\rremote: Compressing objects:  95% (19/20)   \u001b[K\rremote: Compressing objects: 100% (20/20)   \u001b[K\rremote: Compressing objects: 100% (20/20), done.\u001b[K\n",
            "Unpacking objects:   4% (1/23)   \rUnpacking objects:   8% (2/23)   \rUnpacking objects:  13% (3/23)   \rUnpacking objects:  17% (4/23)   \rUnpacking objects:  21% (5/23)   \rUnpacking objects:  26% (6/23)   \rUnpacking objects:  30% (7/23)   \rUnpacking objects:  34% (8/23)   \rUnpacking objects:  39% (9/23)   \rremote: Total 23 (delta 10), reused 0 (delta 0), pack-reused 0\u001b[K\n",
            "Unpacking objects:  43% (10/23)   \rUnpacking objects:  47% (11/23)   \rUnpacking objects:  52% (12/23)   \rUnpacking objects:  56% (13/23)   \rUnpacking objects:  60% (14/23)   \rUnpacking objects:  65% (15/23)   \rUnpacking objects:  69% (16/23)   \rUnpacking objects:  73% (17/23)   \rUnpacking objects:  78% (18/23)   \rUnpacking objects:  82% (19/23)   \rUnpacking objects:  86% (20/23)   \rUnpacking objects:  91% (21/23)   \rUnpacking objects:  95% (22/23)   \rUnpacking objects: 100% (23/23)   \rUnpacking objects: 100% (23/23), done.\n"
          ],
          "name": "stdout"
        }
      ]
    },
    {
      "cell_type": "code",
      "metadata": {
        "id": "1HKGzs1Ccc5M",
        "colab_type": "code",
        "outputId": "7f09aee9-d371-4fb3-e7e0-83c4ba4759d8",
        "colab": {
          "base_uri": "https://localhost:8080/",
          "height": 35
        }
      },
      "source": [
        "%cd fastmt"
      ],
      "execution_count": 50,
      "outputs": [
        {
          "output_type": "stream",
          "text": [
            "/content/fastmt\n"
          ],
          "name": "stdout"
        }
      ]
    },
    {
      "cell_type": "code",
      "metadata": {
        "id": "Yyi4jO4HOtH8",
        "colab_type": "code",
        "outputId": "d00aa344-3429-4c18-dd95-b253d47dc285",
        "colab": {
          "base_uri": "https://localhost:8080/",
          "height": 419
        }
      },
      "source": [
        "!pip install -r requirements.txt"
      ],
      "execution_count": 51,
      "outputs": [
        {
          "output_type": "stream",
          "text": [
            "Requirement already satisfied: tensorflow-gpu==2.0.0-beta1 in /usr/local/lib/python3.6/dist-packages (from -r requirements.txt (line 1)) (2.0.0b1)\n",
            "Requirement already satisfied: jieba in /usr/local/lib/python3.6/dist-packages (from -r requirements.txt (line 2)) (0.39)\n",
            "Requirement already satisfied: keras-applications>=1.0.6 in /usr/local/lib/python3.6/dist-packages (from tensorflow-gpu==2.0.0-beta1->-r requirements.txt (line 1)) (1.0.8)\n",
            "Requirement already satisfied: numpy<2.0,>=1.14.5 in /usr/local/lib/python3.6/dist-packages (from tensorflow-gpu==2.0.0-beta1->-r requirements.txt (line 1)) (1.16.4)\n",
            "Requirement already satisfied: google-pasta>=0.1.6 in /usr/local/lib/python3.6/dist-packages (from tensorflow-gpu==2.0.0-beta1->-r requirements.txt (line 1)) (0.1.7)\n",
            "Requirement already satisfied: tb-nightly<1.14.0a20190604,>=1.14.0a20190603 in /usr/local/lib/python3.6/dist-packages (from tensorflow-gpu==2.0.0-beta1->-r requirements.txt (line 1)) (1.14.0a20190603)\n",
            "Requirement already satisfied: grpcio>=1.8.6 in /usr/local/lib/python3.6/dist-packages (from tensorflow-gpu==2.0.0-beta1->-r requirements.txt (line 1)) (1.15.0)\n",
            "Requirement already satisfied: termcolor>=1.1.0 in /usr/local/lib/python3.6/dist-packages (from tensorflow-gpu==2.0.0-beta1->-r requirements.txt (line 1)) (1.1.0)\n",
            "Requirement already satisfied: wheel>=0.26 in /usr/local/lib/python3.6/dist-packages (from tensorflow-gpu==2.0.0-beta1->-r requirements.txt (line 1)) (0.33.4)\n",
            "Requirement already satisfied: tf-estimator-nightly<1.14.0.dev2019060502,>=1.14.0.dev2019060501 in /usr/local/lib/python3.6/dist-packages (from tensorflow-gpu==2.0.0-beta1->-r requirements.txt (line 1)) (1.14.0.dev2019060501)\n",
            "Requirement already satisfied: wrapt>=1.11.1 in /usr/local/lib/python3.6/dist-packages (from tensorflow-gpu==2.0.0-beta1->-r requirements.txt (line 1)) (1.11.2)\n",
            "Requirement already satisfied: absl-py>=0.7.0 in /usr/local/lib/python3.6/dist-packages (from tensorflow-gpu==2.0.0-beta1->-r requirements.txt (line 1)) (0.7.1)\n",
            "Requirement already satisfied: gast>=0.2.0 in /usr/local/lib/python3.6/dist-packages (from tensorflow-gpu==2.0.0-beta1->-r requirements.txt (line 1)) (0.2.2)\n",
            "Requirement already satisfied: keras-preprocessing>=1.0.5 in /usr/local/lib/python3.6/dist-packages (from tensorflow-gpu==2.0.0-beta1->-r requirements.txt (line 1)) (1.1.0)\n",
            "Requirement already satisfied: protobuf>=3.6.1 in /usr/local/lib/python3.6/dist-packages (from tensorflow-gpu==2.0.0-beta1->-r requirements.txt (line 1)) (3.7.1)\n",
            "Requirement already satisfied: six>=1.10.0 in /usr/local/lib/python3.6/dist-packages (from tensorflow-gpu==2.0.0-beta1->-r requirements.txt (line 1)) (1.12.0)\n",
            "Requirement already satisfied: astor>=0.6.0 in /usr/local/lib/python3.6/dist-packages (from tensorflow-gpu==2.0.0-beta1->-r requirements.txt (line 1)) (0.8.0)\n",
            "Requirement already satisfied: h5py in /usr/local/lib/python3.6/dist-packages (from keras-applications>=1.0.6->tensorflow-gpu==2.0.0-beta1->-r requirements.txt (line 1)) (2.8.0)\n",
            "Requirement already satisfied: markdown>=2.6.8 in /usr/local/lib/python3.6/dist-packages (from tb-nightly<1.14.0a20190604,>=1.14.0a20190603->tensorflow-gpu==2.0.0-beta1->-r requirements.txt (line 1)) (3.1.1)\n",
            "Requirement already satisfied: werkzeug>=0.11.15 in /usr/local/lib/python3.6/dist-packages (from tb-nightly<1.14.0a20190604,>=1.14.0a20190603->tensorflow-gpu==2.0.0-beta1->-r requirements.txt (line 1)) (0.15.4)\n",
            "Requirement already satisfied: setuptools>=41.0.0 in /usr/local/lib/python3.6/dist-packages (from tb-nightly<1.14.0a20190604,>=1.14.0a20190603->tensorflow-gpu==2.0.0-beta1->-r requirements.txt (line 1)) (41.0.1)\n"
          ],
          "name": "stdout"
        }
      ]
    },
    {
      "cell_type": "code",
      "metadata": {
        "id": "piDT_pkKQREQ",
        "colab_type": "code",
        "outputId": "f969019e-76c8-4235-acd0-e22655e2783a",
        "colab": {
          "base_uri": "https://localhost:8080/",
          "height": 35
        }
      },
      "source": [
        "#import mt\n",
        "\n",
        "#'''\n",
        "from importlib import reload\n",
        "reload(mt)\n",
        "#'''"
      ],
      "execution_count": 52,
      "outputs": [
        {
          "output_type": "execute_result",
          "data": {
            "text/plain": [
              "<module 'mt' from '/content/fastmt/mt.py'>"
            ]
          },
          "metadata": {
            "tags": []
          },
          "execution_count": 52
        }
      ]
    },
    {
      "cell_type": "markdown",
      "metadata": {
        "id": "wwhABi9EdWyV",
        "colab_type": "text"
      },
      "source": [
        "#Step 3: Getting corpus"
      ]
    },
    {
      "cell_type": "code",
      "metadata": {
        "id": "r76U8kqafzSl",
        "colab_type": "code",
        "colab": {}
      },
      "source": [
        "#download a corpus from manythings and unzip it\n",
        "#http://www.manythings.org/anki/"
      ],
      "execution_count": 0,
      "outputs": []
    },
    {
      "cell_type": "code",
      "metadata": {
        "id": "APKdmIHWdg-U",
        "colab_type": "code",
        "outputId": "8eaa70d3-d1c8-4d20-d2f8-a8d0ace10935",
        "colab": {
          "base_uri": "https://localhost:8080/",
          "height": 199
        }
      },
      "source": [
        "#mt.view('mini_corpus.txt',5)\n",
        "mt.view('jpn.txt',5)"
      ],
      "execution_count": 76,
      "outputs": [
        {
          "output_type": "stream",
          "text": [
            "Hi.\t嗨。\n",
            "\n",
            "Hi.\t你好。\n",
            "\n",
            "Run.\t你用跑的。\n",
            "\n",
            "Wait!\t等等！\n",
            "\n",
            "Hello!\t你好。\n",
            "\n"
          ],
          "name": "stdout"
        }
      ]
    },
    {
      "cell_type": "code",
      "metadata": {
        "id": "vY0nIZo7g3WN",
        "colab_type": "code",
        "outputId": "3e1e9464-91e4-4ef0-bb36-8af54615244c",
        "colab": {
          "base_uri": "https://localhost:8080/",
          "height": 35
        }
      },
      "source": [
        "corpus_path = mt.reverse_corpus('mini_corpus.txt')"
      ],
      "execution_count": 32,
      "outputs": [
        {
          "output_type": "stream",
          "text": [
            "New corpus saved to the following path: rev_mini_corpus.txt\n"
          ],
          "name": "stdout"
        }
      ]
    },
    {
      "cell_type": "code",
      "metadata": {
        "id": "D3zxs1Qqgcby",
        "colab_type": "code",
        "outputId": "6f05ea7a-c664-46b6-fd2d-4fbf9a62d0f9",
        "colab": {
          "base_uri": "https://localhost:8080/",
          "height": 72
        }
      },
      "source": [
        "src = \"en\"\n",
        "targ = \"zh\"\n",
        "corpus_path = \"mini_corpus.txt\"\n",
        "data = mt.preprocess_data(src,targ,corpus_path,20000)"
      ],
      "execution_count": 54,
      "outputs": [
        {
          "output_type": "stream",
          "text": [
            "Preprocessing your bilingual data for training. Please wait...\n",
            "Creating tokenizer\n",
            "Data ready for training!\n"
          ],
          "name": "stdout"
        }
      ]
    },
    {
      "cell_type": "code",
      "metadata": {
        "id": "et3d7VsZixH0",
        "colab_type": "code",
        "colab": {}
      },
      "source": [
        "network = mt.build_network(data)\n",
        "network = mt.build_network(data,\"./checkpoints\")"
      ],
      "execution_count": 0,
      "outputs": []
    },
    {
      "cell_type": "code",
      "metadata": {
        "id": "V3EdrlKE1Pwc",
        "colab_type": "code",
        "colab": {
          "base_uri": "https://localhost:8080/",
          "height": 1000
        },
        "outputId": "62172798-eef3-43fd-95b1-8301b9ad0e62"
      },
      "source": [
        "mt.train_model(data,network)"
      ],
      "execution_count": 56,
      "outputs": [
        {
          "output_type": "stream",
          "text": [
            "Start training...\n",
            "\n",
            "Epoch 1 Batch 0\n",
            "Epoch 1 Batch 50\n",
            "Epoch 1 Batch 100\n",
            "Epoch 1 Batch 100 Loss 1.5808\n",
            "Epoch 1 Batch 150\n",
            "Epoch 1 Batch 200\n",
            "Epoch 1 Batch 200 Loss 1.5402\n",
            "Epoch 1 Loss 1.6410\n",
            "Time taken for 1 epoch 122.25367712974548 sec\n",
            "\n",
            "Epoch 2 Batch 0\n",
            "Epoch 2 Batch 50\n",
            "Epoch 2 Batch 100\n",
            "Epoch 2 Batch 100 Loss 1.2866\n",
            "Epoch 2 Batch 150\n",
            "Epoch 2 Batch 200\n",
            "Epoch 2 Batch 200 Loss 1.2850\n",
            "Epoch 2 Loss 1.2699\n",
            "Time taken for 1 epoch 52.24789881706238 sec\n",
            "\n",
            "Epoch 3 Batch 0\n",
            "Epoch 3 Batch 50\n",
            "Epoch 3 Batch 100\n",
            "Epoch 3 Batch 100 Loss 1.0835\n",
            "Epoch 3 Batch 150\n",
            "Epoch 3 Batch 200\n",
            "Epoch 3 Batch 200 Loss 1.1017\n",
            "Epoch 3 Loss 1.0880\n",
            "Time taken for 1 epoch 51.780845642089844 sec\n",
            "\n",
            "Epoch 4 Batch 0\n",
            "Epoch 4 Batch 50\n",
            "Epoch 4 Batch 100\n",
            "Epoch 4 Batch 100 Loss 0.9216\n",
            "Epoch 4 Batch 150\n",
            "Epoch 4 Batch 200\n",
            "Epoch 4 Batch 200 Loss 0.9193\n",
            "Epoch 4 Loss 0.9314\n",
            "Time taken for 1 epoch 52.222184896469116 sec\n",
            "\n",
            "Epoch 5 Batch 0\n",
            "Epoch 5 Batch 50\n",
            "Epoch 5 Batch 100\n",
            "Epoch 5 Batch 100 Loss 0.7817\n",
            "Epoch 5 Batch 150\n",
            "Epoch 5 Batch 200\n",
            "Epoch 5 Batch 200 Loss 0.7734\n",
            "Epoch 5 Loss 0.7864\n",
            "Time taken for 1 epoch 51.75151205062866 sec\n",
            "\n",
            "Epoch 6 Batch 0\n",
            "Epoch 6 Batch 50\n",
            "Epoch 6 Batch 100\n",
            "Epoch 6 Batch 100 Loss 0.6547\n",
            "Epoch 6 Batch 150\n",
            "Epoch 6 Batch 200\n",
            "Epoch 6 Batch 200 Loss 0.6420\n",
            "Epoch 6 Loss 0.6613\n",
            "Time taken for 1 epoch 52.44004487991333 sec\n",
            "\n",
            "Epoch 7 Batch 0\n",
            "Epoch 7 Batch 50\n",
            "Epoch 7 Batch 100\n",
            "Epoch 7 Batch 100 Loss 0.5357\n",
            "Epoch 7 Batch 150\n",
            "Epoch 7 Batch 200\n",
            "Epoch 7 Batch 200 Loss 0.5170\n",
            "Epoch 7 Loss 0.5512\n",
            "Time taken for 1 epoch 51.65018177032471 sec\n",
            "\n",
            "Epoch 8 Batch 0\n",
            "Epoch 8 Batch 50\n",
            "Epoch 8 Batch 100\n",
            "Epoch 8 Batch 100 Loss 0.4524\n",
            "Epoch 8 Batch 150\n",
            "Epoch 8 Batch 200\n",
            "Epoch 8 Batch 200 Loss 0.4083\n",
            "Epoch 8 Loss 0.4581\n",
            "Time taken for 1 epoch 52.30133414268494 sec\n",
            "\n",
            "Epoch 9 Batch 0\n",
            "Epoch 9 Batch 50\n",
            "Epoch 9 Batch 100\n",
            "Epoch 9 Batch 100 Loss 0.3579\n",
            "Epoch 9 Batch 150\n",
            "Epoch 9 Batch 200\n",
            "Epoch 9 Batch 200 Loss 0.3489\n",
            "Epoch 9 Loss 0.3768\n",
            "Time taken for 1 epoch 51.50141954421997 sec\n",
            "\n",
            "Epoch 10 Batch 0\n",
            "Epoch 10 Batch 50\n",
            "Epoch 10 Batch 100\n",
            "Epoch 10 Batch 100 Loss 0.2997\n",
            "Epoch 10 Batch 150\n",
            "Epoch 10 Batch 200\n",
            "Epoch 10 Batch 200 Loss 0.2841\n",
            "Epoch 10 Loss 0.3064\n",
            "Time taken for 1 epoch 52.31052303314209 sec\n",
            "\n",
            "Training completed.\n"
          ],
          "name": "stdout"
        }
      ]
    },
    {
      "cell_type": "code",
      "metadata": {
        "id": "VtrHI02w1wAh",
        "colab_type": "code",
        "colab": {
          "base_uri": "https://localhost:8080/",
          "height": 183
        },
        "outputId": "e622ca60-96fa-4c45-818f-a87a0e53c1ca"
      },
      "source": [
        "#mt.translate(u'How old are you?','en')\n",
        "#mt.translate(u'I love swimming.','en')\n",
        "#mt.translate(u'I read books.','en')\n",
        "#mt.translate(u'今天天氣好。','zh','./checkpoints')"
      ],
      "execution_count": 74,
      "outputs": [
        {
          "output_type": "stream",
          "text": [
            "W0704 17:42:35.457647 140652635355008 util.py:244] Unresolved object in checkpoint: (root).optimizer.iter\n",
            "W0704 17:42:35.458618 140652635355008 util.py:244] Unresolved object in checkpoint: (root).optimizer.beta_1\n",
            "W0704 17:42:35.459387 140652635355008 util.py:244] Unresolved object in checkpoint: (root).optimizer.beta_2\n",
            "W0704 17:42:35.461622 140652635355008 util.py:244] Unresolved object in checkpoint: (root).optimizer.decay\n",
            "W0704 17:42:35.464056 140652635355008 util.py:244] Unresolved object in checkpoint: (root).optimizer.learning_rate\n",
            "W0704 17:42:35.467604 140652635355008 util.py:252] A checkpoint was restored (e.g. tf.train.Checkpoint.restore or tf.keras.Model.load_weights) but not all checkpointed values were used. See above for specific issues. Use expect_partial() on the load status object, e.g. tf.train.Checkpoint.restore(...).expect_partial(), to silence these warnings, or use assert_consumed() to make the check explicit. See https://www.tensorflow.org/alpha/guide/checkpoints#loading_mechanics for details.\n"
          ],
          "name": "stderr"
        },
        {
          "output_type": "stream",
          "text": [
            "Input: <start> how can this be done ? <end>\n",
            "Predicted translation: 怎 麼 地 的 ？ <end> \n"
          ],
          "name": "stdout"
        }
      ]
    }
  ]
}